{
 "cells": [
  {
   "cell_type": "code",
   "execution_count": 6,
   "metadata": {},
   "outputs": [
    {
     "name": "stdout",
     "output_type": "stream",
     "text": [
      "Requirement already satisfied: eikonalfm==0.9.5 in ./.venv/lib/python3.7/site-packages (0.9.5)\n",
      "Requirement already satisfied: numpy>=1.7 in ./.venv/lib/python3.7/site-packages (from eikonalfm==0.9.5) (1.21.6)\n",
      "Collecting git+https://github.com/sgrubas/NES.git\n",
      "  Cloning https://github.com/sgrubas/NES.git to /tmp/pip-req-build-bjgr11_l\n",
      "  Running command git clone --filter=blob:none --quiet https://github.com/sgrubas/NES.git /tmp/pip-req-build-bjgr11_l\n",
      "  Resolved https://github.com/sgrubas/NES.git to commit fac03936f8fbda9b3c1e09aa0c8417d84468b982\n",
      "  Preparing metadata (setup.py) ... \u001b[?25lerror\n",
      "  \u001b[1;31merror\u001b[0m: \u001b[1msubprocess-exited-with-error\u001b[0m\n",
      "  \n",
      "  \u001b[31m×\u001b[0m \u001b[32mpython setup.py egg_info\u001b[0m did not run successfully.\n",
      "  \u001b[31m│\u001b[0m exit code: \u001b[1;36m1\u001b[0m\n",
      "  \u001b[31m╰─>\u001b[0m \u001b[31m[24 lines of output]\u001b[0m\n",
      "  \u001b[31m   \u001b[0m 2024-09-11 05:29:40.390737: I tensorflow/core/platform/cpu_feature_guard.cc:193] This TensorFlow binary is optimized with oneAPI Deep Neural Network Library (oneDNN) to use the following CPU instructions in performance-critical operations:  AVX2 AVX_VNNI FMA\n",
      "  \u001b[31m   \u001b[0m To enable them in other operations, rebuild TensorFlow with the appropriate compiler flags.\n",
      "  \u001b[31m   \u001b[0m 2024-09-11 05:29:40.472743: I tensorflow/core/util/port.cc:104] oneDNN custom operations are on. You may see slightly different numerical results due to floating-point round-off errors from different computation orders. To turn them off, set the environment variable `TF_ENABLE_ONEDNN_OPTS=0`.\n",
      "  \u001b[31m   \u001b[0m 2024-09-11 05:29:40.474978: W tensorflow/compiler/xla/stream_executor/platform/default/dso_loader.cc:64] Could not load dynamic library 'libcudart.so.11.0'; dlerror: libcudart.so.11.0: cannot open shared object file: No such file or directory\n",
      "  \u001b[31m   \u001b[0m 2024-09-11 05:29:40.474987: I tensorflow/compiler/xla/stream_executor/cuda/cudart_stub.cc:29] Ignore above cudart dlerror if you do not have a GPU set up on your machine.\n",
      "  \u001b[31m   \u001b[0m 2024-09-11 05:29:40.919950: W tensorflow/compiler/xla/stream_executor/platform/default/dso_loader.cc:64] Could not load dynamic library 'libnvinfer.so.7'; dlerror: libnvinfer.so.7: cannot open shared object file: No such file or directory\n",
      "  \u001b[31m   \u001b[0m 2024-09-11 05:29:40.919997: W tensorflow/compiler/xla/stream_executor/platform/default/dso_loader.cc:64] Could not load dynamic library 'libnvinfer_plugin.so.7'; dlerror: libnvinfer_plugin.so.7: cannot open shared object file: No such file or directory\n",
      "  \u001b[31m   \u001b[0m 2024-09-11 05:29:40.920004: W tensorflow/compiler/tf2tensorrt/utils/py_utils.cc:38] TF-TRT Warning: Cannot dlopen some TensorRT libraries. If you would like to use Nvidia GPU with TensorRT, please make sure the missing libraries mentioned above are installed properly.\n",
      "  \u001b[31m   \u001b[0m /home/andrei/Downloads/Code/ConcreteModelPINN/.venv/lib/python3.7/site-packages/pandas/compat/__init__.py:124: UserWarning: Could not import the lzma module. Your installed Python is incomplete. Attempting to use lzma compression will result in a RuntimeError.\n",
      "  \u001b[31m   \u001b[0m   warnings.warn(msg)\n",
      "  \u001b[31m   \u001b[0m Traceback (most recent call last):\n",
      "  \u001b[31m   \u001b[0m   File \"<string>\", line 36, in <module>\n",
      "  \u001b[31m   \u001b[0m   File \"<pip-setuptools-caller>\", line 34, in <module>\n",
      "  \u001b[31m   \u001b[0m   File \"/tmp/pip-req-build-bjgr11_l/setup.py\", line 2, in <module>\n",
      "  \u001b[31m   \u001b[0m     from NES import __version__\n",
      "  \u001b[31m   \u001b[0m   File \"/tmp/pip-req-build-bjgr11_l/NES/__init__.py\", line 1, in <module>\n",
      "  \u001b[31m   \u001b[0m     from .NeuralEikonalSolver import NES_OP, NES_TP\n",
      "  \u001b[31m   \u001b[0m   File \"/tmp/pip-req-build-bjgr11_l/NES/NeuralEikonalSolver.py\", line 6, in <module>\n",
      "  \u001b[31m   \u001b[0m     from .utils import Uniform_PDF, RegularGrid, DenseBody, Diff, SourceLoc, NES_EarlyStopping, data_handler, Activation\n",
      "  \u001b[31m   \u001b[0m   File \"/tmp/pip-req-build-bjgr11_l/NES/utils.py\", line 7, in <module>\n",
      "  \u001b[31m   \u001b[0m     from . import velocity\n",
      "  \u001b[31m   \u001b[0m   File \"/tmp/pip-req-build-bjgr11_l/NES/velocity.py\", line 4, in <module>\n",
      "  \u001b[31m   \u001b[0m     import importlib_resources\n",
      "  \u001b[31m   \u001b[0m ModuleNotFoundError: No module named 'importlib_resources'\n",
      "  \u001b[31m   \u001b[0m \u001b[31m[end of output]\u001b[0m\n",
      "  \n",
      "  \u001b[1;35mnote\u001b[0m: This error originates from a subprocess, and is likely not a problem with pip.\n",
      "\u001b[?25h\u001b[1;31merror\u001b[0m: \u001b[1mmetadata-generation-failed\u001b[0m\n",
      "\n",
      "\u001b[31m×\u001b[0m Encountered error while generating package metadata.\n",
      "\u001b[31m╰─>\u001b[0m See above for output.\n",
      "\n",
      "\u001b[1;35mnote\u001b[0m: This is an issue with the package mentioned above, not pip.\n",
      "\u001b[1;36mhint\u001b[0m: See above for details.\n"
     ]
    }
   ],
   "source": [
    "# !pip install sciann==0.7.0.1 # for PINNeik\n",
    "!pip install eikonalfm==0.9.5 # for reference solution (2nd-order factored FMM)\n",
    "!pip install git+https://github.com/sgrubas/NES.git # Neural Eikonal Solver\n",
    "\n",
    "from IPython.display import clear_output\n",
    "# clear_output()"
   ]
  },
  {
   "cell_type": "code",
   "execution_count": 4,
   "metadata": {},
   "outputs": [],
   "source": [
    "!pip install tqdm\n",
    "clear_output()"
   ]
  },
  {
   "cell_type": "code",
   "execution_count": 5,
   "metadata": {},
   "outputs": [
    {
     "name": "stderr",
     "output_type": "stream",
     "text": [
      "/home/andrei/Downloads/Code/ConcreteModelPINN/.venv/lib/python3.7/site-packages/tqdm/auto.py:21: TqdmWarning: IProgress not found. Please update jupyter and ipywidgets. See https://ipywidgets.readthedocs.io/en/stable/user_install.html\n",
      "  from .autonotebook import tqdm as notebook_tqdm\n"
     ]
    },
    {
     "ename": "ModuleNotFoundError",
     "evalue": "No module named 'NES'",
     "output_type": "error",
     "traceback": [
      "\u001b[0;31m---------------------------------------------------------------------------\u001b[0m",
      "\u001b[0;31mModuleNotFoundError\u001b[0m                       Traceback (most recent call last)",
      "\u001b[0;32m/tmp/ipykernel_3179365/2337882289.py\u001b[0m in \u001b[0;36m<module>\u001b[0;34m\u001b[0m\n\u001b[1;32m      4\u001b[0m \u001b[0;32mfrom\u001b[0m \u001b[0meikonalfm\u001b[0m \u001b[0;32mimport\u001b[0m \u001b[0mfactored_fast_marching\u001b[0m \u001b[0;32mas\u001b[0m \u001b[0mffm\u001b[0m \u001b[0;31m# reference solution\u001b[0m\u001b[0;34m\u001b[0m\u001b[0;34m\u001b[0m\u001b[0m\n\u001b[1;32m      5\u001b[0m \u001b[0;32mfrom\u001b[0m \u001b[0meikonalfm\u001b[0m \u001b[0;32mimport\u001b[0m \u001b[0mdistance\u001b[0m \u001b[0;31m# reference solution\u001b[0m\u001b[0;34m\u001b[0m\u001b[0;34m\u001b[0m\u001b[0m\n\u001b[0;32m----> 6\u001b[0;31m \u001b[0;32mimport\u001b[0m \u001b[0mNES\u001b[0m \u001b[0;31m# Neural Eikonal Solver\u001b[0m\u001b[0;34m\u001b[0m\u001b[0;34m\u001b[0m\u001b[0m\n\u001b[0m\u001b[1;32m      7\u001b[0m \u001b[0;32mimport\u001b[0m \u001b[0msciann\u001b[0m \u001b[0;31m# for PINNeik\u001b[0m\u001b[0;34m\u001b[0m\u001b[0;34m\u001b[0m\u001b[0m\n\u001b[1;32m      8\u001b[0m \u001b[0;32mimport\u001b[0m \u001b[0mholoviews\u001b[0m \u001b[0;32mas\u001b[0m \u001b[0mhv\u001b[0m \u001b[0;31m# for visualization\u001b[0m\u001b[0;34m\u001b[0m\u001b[0;34m\u001b[0m\u001b[0m\n",
      "\u001b[0;31mModuleNotFoundError\u001b[0m: No module named 'NES'"
     ]
    }
   ],
   "source": [
    "import numpy as np\n",
    "import tensorflow as tf\n",
    "from tqdm.keras import TqdmCallback # progress bar\n",
    "from eikonalfm import factored_fast_marching as ffm # reference solution\n",
    "from eikonalfm import distance # reference solution\n",
    "import NES # Neural Eikonal Solver\n",
    "import sciann # for PINNeik\n",
    "import holoviews as hv # for visualization\n",
    "hv.extension('matplotlib')"
   ]
  },
  {
   "cell_type": "code",
   "execution_count": null,
   "metadata": {},
   "outputs": [],
   "source": []
  }
 ],
 "metadata": {
  "kernelspec": {
   "display_name": ".venv",
   "language": "python",
   "name": "python3"
  },
  "language_info": {
   "codemirror_mode": {
    "name": "ipython",
    "version": 3
   },
   "file_extension": ".py",
   "mimetype": "text/x-python",
   "name": "python",
   "nbconvert_exporter": "python",
   "pygments_lexer": "ipython3",
   "version": "3.7.9"
  }
 },
 "nbformat": 4,
 "nbformat_minor": 2
}
