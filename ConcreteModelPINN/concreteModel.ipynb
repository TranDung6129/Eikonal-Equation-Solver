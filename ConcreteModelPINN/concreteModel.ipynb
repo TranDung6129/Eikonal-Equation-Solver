{
 "cells": [
  {
   "cell_type": "code",
   "execution_count": 2,
   "metadata": {},
   "outputs": [],
   "source": [
    "# !pip install numpy==1.21.6\n",
    "# !pip install matplotlib==3.5.3\n",
    "# !pip install pandas==1.3.5\n",
    "# !pip install scipy==1.7.3\n",
    "# !pip install plotly==5.18.0\n",
    "# !pip install scikit-learn==1.0.1\n",
    "# !pip install tensorflow==2.11.0\n",
    "# !pip install sciann==0.7.0.1"
   ]
  },
  {
   "cell_type": "code",
   "execution_count": 3,
   "metadata": {},
   "outputs": [
    {
     "name": "stderr",
     "output_type": "stream",
     "text": [
      "/home/andrei/Downloads/Code/ConcreteModelPINN/.venv/lib/python3.7/site-packages/pandas/compat/__init__.py:124: UserWarning: Could not import the lzma module. Your installed Python is incomplete. Attempting to use lzma compression will result in a RuntimeError.\n",
      "  warnings.warn(msg)\n",
      "2024-09-08 10:55:19.927855: I tensorflow/core/platform/cpu_feature_guard.cc:193] This TensorFlow binary is optimized with oneAPI Deep Neural Network Library (oneDNN) to use the following CPU instructions in performance-critical operations:  AVX2 AVX_VNNI FMA\n",
      "To enable them in other operations, rebuild TensorFlow with the appropriate compiler flags.\n",
      "2024-09-08 10:55:20.045822: I tensorflow/core/util/port.cc:104] oneDNN custom operations are on. You may see slightly different numerical results due to floating-point round-off errors from different computation orders. To turn them off, set the environment variable `TF_ENABLE_ONEDNN_OPTS=0`.\n",
      "2024-09-08 10:55:20.050508: W tensorflow/compiler/xla/stream_executor/platform/default/dso_loader.cc:64] Could not load dynamic library 'libcudart.so.11.0'; dlerror: libcudart.so.11.0: cannot open shared object file: No such file or directory\n",
      "2024-09-08 10:55:20.050527: I tensorflow/compiler/xla/stream_executor/cuda/cudart_stub.cc:29] Ignore above cudart dlerror if you do not have a GPU set up on your machine.\n",
      "2024-09-08 10:55:20.653751: W tensorflow/compiler/xla/stream_executor/platform/default/dso_loader.cc:64] Could not load dynamic library 'libnvinfer.so.7'; dlerror: libnvinfer.so.7: cannot open shared object file: No such file or directory\n",
      "2024-09-08 10:55:20.653821: W tensorflow/compiler/xla/stream_executor/platform/default/dso_loader.cc:64] Could not load dynamic library 'libnvinfer_plugin.so.7'; dlerror: libnvinfer_plugin.so.7: cannot open shared object file: No such file or directory\n",
      "2024-09-08 10:55:20.653824: W tensorflow/compiler/tf2tensorrt/utils/py_utils.cc:38] TF-TRT Warning: Cannot dlopen some TensorRT libraries. If you would like to use Nvidia GPU with TensorRT, please make sure the missing libraries mentioned above are installed properly.\n"
     ]
    },
    {
     "name": "stdout",
     "output_type": "stream",
     "text": [
      "---------------------- SCIANN 0.7.0.1 ---------------------- \n",
      "For details, check out our review paper and the documentation at: \n",
      " +  \"https://www.sciencedirect.com/science/article/pii/S0045782520307374\", \n",
      " +  \"https://arxiv.org/abs/2005.08803\", \n",
      " +  \"https://www.sciann.com\". \n",
      "\n",
      " Need support or would like to contribute, please join sciann`s slack group: \n",
      " +  \"https://join.slack.com/t/sciann/shared_invite/zt-ne1f5jlx-k_dY8RGo3ZreDXwz0f~CeA\" \n",
      " \n",
      "TensorFlow Version: 2.11.0 \n",
      "Python Version: 3.7.9 (default, Aug 29 2024, 22:22:50) \n",
      "[GCC 13.2.0] \n",
      "\n"
     ]
    }
   ],
   "source": [
    "import numpy as np\n",
    "import pandas as pd\n",
    "import matplotlib.pyplot as plt\n",
    "from mpl_toolkits.axes_grid1 import make_axes_locatable\n",
    "import tensorflow as tf\n",
    "from sciann import Functional, Variable, SciModel, PDE\n",
    "from sciann.utils import *\n",
    "import scipy.io\n",
    "import time\n",
    "import random\n",
    "import os \n",
    "import filtf as ff\n",
    "from my_window import my_window"
   ]
  },
  {
   "cell_type": "code",
   "execution_count": 4,
   "metadata": {},
   "outputs": [],
   "source": [
    "np.random.seed(123)\n",
    "tf.random.set_seed(123)"
   ]
  },
  {
   "cell_type": "markdown",
   "metadata": {},
   "source": [
    "# Model Specification"
   ]
  },
  {
   "cell_type": "code",
   "execution_count": 5,
   "metadata": {},
   "outputs": [],
   "source": [
    "# Space parameters\n",
    "nx, nz = 240, 240\n",
    "dx, dz = 0.01, 0.01\n",
    "x = np.arange(0, nx*dx, dx)\n",
    "z = np.arange(0, nz*dz, dz)\n",
    "\n",
    "pad = 10\n",
    "center = [nz / 2, nx / 2] # center of velmodel \n",
    "x0 = nx / 2 * dx\n",
    "z0 = nz / 2 * dz # x and z coordinates of the center of the velmodel\n",
    "radius = 1\n",
    "\n",
    "r = 1.83/2 # radius of smaller circular region\n",
    "n = 8 # number of receivers and sources\n",
    "tet = np.linspace(-np.pi, np.pi, n+1) # array of angles for placing the points around the circle\n",
    "xi = r * np.cos(tet) + x0 # x-coordinates of sources and receivers\n",
    "zi = r * np.sin(tet) + z0 # z-coordinates of sources and receivers\n",
    "\n",
    "xi = xi[:-1] \n",
    "zi = zi[:-1] # Remove last element of the array"
   ]
  },
  {
   "cell_type": "code",
   "execution_count": 23,
   "metadata": {},
   "outputs": [
    {
     "name": "stdout",
     "output_type": "stream",
     "text": [
      "[0.285     0.5529973 1.2       1.8470027 2.115     1.8470027 1.2\n",
      " 0.5529973]\n"
     ]
    }
   ],
   "source": [
    "print(xi)"
   ]
  },
  {
   "cell_type": "markdown",
   "metadata": {},
   "source": [
    "# Source location"
   ]
  },
  {
   "cell_type": "code",
   "execution_count": 6,
   "metadata": {},
   "outputs": [],
   "source": [
    "sx = np.round(xi / dx).astype(int) # x-coordinates of sources and receivers in grid points\n",
    "sz = np.round(zi / dz).astype(int) # z-coordinates of sources and receivers in grid points\n",
    "Ns = len(sx) # number of sources\n",
    "s = [sz.T, sx.T] # source and receiver coordinates"
   ]
  },
  {
   "cell_type": "markdown",
   "metadata": {},
   "source": [
    "# Receiver positions"
   ]
  },
  {
   "cell_type": "code",
   "execution_count": 7,
   "metadata": {},
   "outputs": [],
   "source": [
    "# When using one sources, others are receivers\n",
    "\n",
    "rx = sx\n",
    "rz = sz\n",
    "r = s\n",
    "Nr = len(rx) # number of receivers"
   ]
  },
  {
   "cell_type": "markdown",
   "metadata": {},
   "source": [
    "# Source-Receiver distances"
   ]
  },
  {
   "cell_type": "code",
   "execution_count": 8,
   "metadata": {},
   "outputs": [],
   "source": [
    "distances = np.zeros((Nr, Ns))\n",
    "for i in range(1, Ns):\n",
    "    distances[i, :] = np.sqrt((rx - sx[i]) ** 2 * dx**2 + (rz - sz[i])**2 * dz**2)\n"
   ]
  },
  {
   "cell_type": "markdown",
   "metadata": {},
   "source": [
    "# Time parameters of observed data"
   ]
  },
  {
   "cell_type": "code",
   "execution_count": 9,
   "metadata": {},
   "outputs": [],
   "source": [
    "tmax = 1/1000\n",
    "dts = 1/500000\n",
    "ts = np.arange(0, tmax + dts, dts) # time axis\n",
    "nts = len(ts)"
   ]
  },
  {
   "cell_type": "markdown",
   "metadata": {},
   "source": [
    "# Filtering and normalizing the data"
   ]
  },
  {
   "cell_type": "code",
   "execution_count": 10,
   "metadata": {},
   "outputs": [],
   "source": [
    "laplacian = 2\n",
    "\n",
    "filt = [20000, 30000, 60000, 70000]\n",
    "\n",
    "fmin = [filt[1], filt[1] - filt[0]]\n",
    "fmax = [filt[2], filt[3] - filt[2]]\n",
    "phase = 0\n",
    "max_atten = 80 # maximum attenuation in dB"
   ]
  },
  {
   "cell_type": "markdown",
   "metadata": {},
   "source": [
    "# Windowing"
   ]
  },
  {
   "cell_type": "code",
   "execution_count": 11,
   "metadata": {},
   "outputs": [],
   "source": [
    "t01 = 0.1/1000\n",
    "t02 = 0.4/1000\n",
    "\n",
    "V0 = 4000\n",
    "\n",
    "# Source as a Ricker Wavelet\n",
    "fc = 50000\n",
    "t0 = 0 * tmax\n",
    "depth = 1005"
   ]
  },
  {
   "cell_type": "markdown",
   "metadata": {},
   "source": [
    "# Reference receiver for sources"
   ]
  },
  {
   "cell_type": "code",
   "execution_count": 12,
   "metadata": {},
   "outputs": [],
   "source": [
    "RR = np.zeros((nts, Nr, Ns))\n",
    "\n",
    "# Loop over sources (i) and receivers (j)\n",
    "\n",
    "for i in range(Ns):\n",
    "    for j in range(2, Nr):\n",
    "\n",
    "        if j > i:\n",
    "            # Read CSV file based on i,j\n",
    "            level = pd.read_csv(f'data/TP3-5.{i+1}{j+1}.CSV', usecols=[0], skiprows=3, nrows=nts).values.flatten()\n",
    "            row = np.argmin(np.abs(level - depth)) # Find closet row based on depth\n",
    "            data1 = pd.read_csv(f'data/TP3-5.{i+1}{j+1}.CSV', usecols=range(8, 508), skiprows=row+3, nrows=1).values\n",
    "            \n",
    "        elif j < i:\n",
    "            # Read CSV file based on j,i\n",
    "            evel = pd.read_csv(f'data/TP3-5.{j+1}{i+1}.CSV', usecols=[0], skiprows=3, nrows=nts).values.flatten()\n",
    "            row = np.argmin(np.abs(level - depth)) # Find closet row based on depth\n",
    "            data1 = pd.read_csv(f'data/TP3-5.{j+1}{i+1}.CSV', usecols=range(8, 508), skiprows=row+3, nrows=1).values\n",
    "        else:\n",
    "            # i == j, assign zeros\n",
    "            data1 = np.zeros((nts, 1))\n",
    "\n",
    "        data1 = data1.flatten()\n",
    "        data = np.concatenate((np.zeros((int(np.ceil(t0 / dts)), )), data1))\n",
    "        \n",
    "        if data.shape[0] > nts:\n",
    "            data = data[nts:, :]\n",
    "        else:\n",
    "            data = np.pad(data, ((0, nts - data.shape[0])))\n",
    "            \n",
    "        RR[:, j, i] = data"
   ]
  },
  {
   "cell_type": "markdown",
   "metadata": {},
   "source": [
    "# Filtering and normalizing the data"
   ]
  },
  {
   "cell_type": "code",
   "execution_count": 13,
   "metadata": {},
   "outputs": [
    {
     "name": "stderr",
     "output_type": "stream",
     "text": [
      "/home/andrei/Downloads/Code/ConcreteModelPINN/my_window.py:48: RuntimeWarning: invalid value encountered in true_divide\n",
      "  out[:, j] /= np.sqrt(np.sum(out[:, j] ** 2))\n"
     ]
    }
   ],
   "source": [
    "for i in range(Ns):\n",
    "    R_ii = np.zeros((nts, Nr))\n",
    "    data = np.squeeze(RR[:, :, i])\n",
    "    for j in range(Nr):\n",
    "        if distances[i, j] == 0:\n",
    "            data[:, j] = 0\n",
    "        else:\n",
    "            R_ii[:, j] = ff.filtf(data[:, j], ts, fmin, fmax, phase, max_atten)\n",
    "            \n",
    "    R_ii = my_window(R_ii, dts, t01, t02, distances[i, :], V0)\n",
    "RR[:, :, i] = R_ii"
   ]
  },
  {
   "cell_type": "markdown",
   "metadata": {},
   "source": [
    "# Normalize data"
   ]
  },
  {
   "cell_type": "code",
   "execution_count": 14,
   "metadata": {},
   "outputs": [],
   "source": [
    "for i in range(Ns):\n",
    "    for j in range(Nr):\n",
    "        if distances[i, j] > 0:\n",
    "            R_norm = np.sqrt(np.sum(RR[:, j, i] ** 2))\n",
    "            if R_norm > 0:\n",
    "                RR[:, j, i] = RR[:, j, i] / R_norm"
   ]
  },
  {
   "cell_type": "markdown",
   "metadata": {},
   "source": [
    "# Creating Grid"
   ]
  },
  {
   "cell_type": "code",
   "execution_count": 32,
   "metadata": {},
   "outputs": [
    {
     "name": "stdout",
     "output_type": "stream",
     "text": [
      "Model Specification: \n",
      "\t zmin = 0.0, zmax = 2.39, dz = 0.01, \n",
      "\t xmin = 0.0, xmax = 2.39, dx = 0.01.\n",
      "Point source, receiver location: \n",
      "\t xi = [ 28  55 120 185 212 185 120  55], \n",
      "\t zi = [120  55  28  55 120 185 212 185]\n"
     ]
    }
   ],
   "source": [
    "# Review data\n",
    "\n",
    "print(f\"Model Specification: \\n\\t zmin = {z[0]}, zmax = {z[-1]}, dz = {dz}, \\n\\t xmin = {x[0]}, xmax = {x[-1]}, dx = {dx}.\")\n",
    "print(f\"Point source, receiver location: \\n\\t xi = {sx}, \\n\\t zi = {sz}\")\n",
    "\n",
    "# Number of training points\n",
    "num_tr_pts = 5000\n",
    "\n",
    "# Creating grid\n",
    "Z, X = np.meshgrid(z, x, indexing='ij')\n",
    "\n",
    "# Grid points for training\n",
    "X_star = [Z.reshape(-1, 1), X.reshape(-1, 1)]\n",
    "selected_points = np.random.choice(np.arange(Z.size), num_tr_pts, replace=False)\n",
    "\n",
    "# Training points\n",
    "Zf = Z.reshape(-1, 1)[selected_points]\n",
    "Zf = np.append(Zf, sz[0])\n",
    "Xf = X.reshape(-1, 1)[selected_points]\n",
    "Xf = np.append(Xf, sx[0])\n",
    "\n",
    "X_starf = [Zf.reshape(-1, 1), Xf.reshape(-1, 1)]"
   ]
  },
  {
   "cell_type": "markdown",
   "metadata": {},
   "source": [
    "# Velocity Model"
   ]
  },
  {
   "cell_type": "code",
   "execution_count": 30,
   "metadata": {},
   "outputs": [],
   "source": [
    "velmodel = np.zeros_like(Z) # Velocity model\n",
    "velmodel = velmodel + V0"
   ]
  },
  {
   "cell_type": "markdown",
   "metadata": {},
   "source": [
    "# Plot the velocity model with the source location"
   ]
  },
  {
   "cell_type": "code",
   "execution_count": 39,
   "metadata": {},
   "outputs": [
    {
     "data": {
      "image/png": "[encoded data removed]",
      "text/plain": [
       "<Figure size 500x500 with 2 Axes>"
      ]
     },
     "metadata": {},
     "output_type": "display_data"
    }
   ],
   "source": [
    "plt.style.use('seaborn-dark')\n",
    "plt.figure(figsize=(5, 5))\n",
    "\n",
    "ax = plt.gca()\n",
    "im = ax.imshow(velmodel, extent=[x[0], x[-1], z[-1], z[0]], aspect=1, cmap='jet')\n",
    "\n",
    "ax.plot(sx[0], sz[0], 'r*', markersize=8)\n",
    "ax.plot(sx[1:], sz[1:], 'k.', markersize=8)\n",
    "\n",
    "plt.xlabel('x (m)', fontsize=14)\n",
    "plt.xticks(fontsize=10)\n",
    "plt.ylabel('z (m)', fontsize=14)\n",
    "plt.yticks(fontsize=10)\n",
    "\n",
    "ax.xaxis.set_major_locator(plt.MultipleLocator(50))\n",
    "ax.yaxis.set_major_locator(plt.MultipleLocator(50))\n",
    "\n",
    "divider = make_axes_locatable(ax)\n",
    "cax = divider.append_axes(\"right\", size=\"6%\", pad=0.15)\n",
    "\n",
    "cbar = plt.colorbar(im, cax=cax)\n",
    "\n",
    "cbar.set_label('Velocity (m/s)', fontsize=14)\n",
    "cbar.ax.tick_params(labelsize=10)\n",
    "\n",
    "plt.savefig(\"./figs/concretes/velmodel.pdf\", format=\"pdf\", bbox_inches='tight')"
   ]
  },
  {
   "cell_type": "code",
   "execution_count": 40,
   "metadata": {},
   "outputs": [
    {
     "name": "stdout",
     "output_type": "stream",
     "text": [
      "[5000]\n",
      "(1,)\n",
      "[120.]\n",
      "[28.]\n"
     ]
    }
   ],
   "source": [
    "# Find source location id in X_star\n",
    "\n",
    "TOLX = 1e-7\n",
    "TOLZ = 1e-7\n",
    "\n",
    "sids, _ = np.where(np.logical_and(np.abs(X_starf[0] - sz[0]) < TOLZ, np.abs(X_starf[1] - sx[0]) < TOLX))\n",
    "\n",
    "print(sids)\n",
    "print(sids.shape)\n",
    "print(X_starf[0][sids, 0])\n",
    "print(X_starf[1][sids, 0])"
   ]
  },
  {
   "cell_type": "markdown",
   "metadata": {},
   "source": [
    "# Preparing SCIANN model object"
   ]
  },
  {
   "cell_type": "code",
   "execution_count": 41,
   "metadata": {},
   "outputs": [],
   "source": [
    "K.clear_session()\n",
    "\n",
    "layers = [20] * 4\n",
    "\n",
    "# Appending source values\n",
    "velmodelf = velmodel.reshape(-1, 1)[selected_points]\n",
    "velmodelf = np.append(velmodelf, V0)\n",
    "\n",
    "px0f = "
   ]
  },
  {
   "cell_type": "code",
   "execution_count": null,
   "metadata": {},
   "outputs": [],
   "source": []
  }
 ],
 "metadata": {
  "kernelspec": {
   "display_name": ".venv",
   "language": "python",
   "name": "python3"
  },
  "language_info": {
   "codemirror_mode": {
    "name": "ipython",
    "version": 3
   },
   "file_extension": ".py",
   "mimetype": "text/x-python",
   "name": "python",
   "nbconvert_exporter": "python",
   "pygments_lexer": "ipython3",
   "version": "3.7.9"
  }
 },
 "nbformat": 4,
 "nbformat_minor": 2
}
