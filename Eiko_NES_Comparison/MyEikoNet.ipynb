{
 "cells": [
  {
   "cell_type": "code",
   "execution_count": 3,
   "metadata": {},
   "outputs": [],
   "source": [
    "import numpy as np\n",
    "import tensorflow as tf\n",
    "import torch\n",
    "from tqdm.keras import TqdmCallback\n",
    "from eikonalfm import factored_fast_marching as ffm\n",
    "from eikonalfm import distance\n",
    "from EikoNet import model as EikoNet\n",
    "import holoviews as hv\n",
    "hv.extension('matplotlib')\n",
    "from IPython.display import clear_output\n",
    "import misc\n",
    "import velocity\n",
    "\n",
    "clear_output()"
   ]
  },
  {
   "cell_type": "markdown",
   "metadata": {},
   "source": [
    "# Loading velocity model"
   ]
  },
  {
   "cell_type": "code",
   "execution_count": 4,
   "metadata": {},
   "outputs": [],
   "source": [
    "# EikoNet by default is applied for 3D models, create pseudo 3D model of Marmousi\n",
    "Vel2D = misc.Marmousi(smooth=3, section=[[600, 881], None])\n",
    "vmin, vmax = Vel2D.min, Vel2D.max\n",
    "xmin, zmin = Vel2D.xmin\n",
    "xmax, zmax = Vel2D.xmax\n",
    "nz, nx = 281, 281\n",
    "\n",
    "x = np.linspace(xmin, xmax, nx)\n",
    "z = np.linspace(zmin, zmax, nz)\n",
    "Xr_2d = np.stack(np.meshgrid(x, z, indexing='ij'), axis=-1)\n",
    "V_2d = Vel2D(Xr_2d)\n",
    "\n",
    "# Converting to pseudo 3D\n",
    "y = np.array([0.0, 1e-3])\n",
    "V_3d = np.tile(V_2d[..., None], reps=(1, 1, len(y)))\n",
    "\n",
    "Xr_3d = np.stack(np.meshgrid(x, z, y, indexing='ij'), axis=-1)\n",
    "Vel3D = velocity.Interpolator(V_3d, x, z, y)\n"
   ]
  },
  {
   "cell_type": "code",
   "execution_count": 5,
   "metadata": {},
   "outputs": [],
   "source": [
    "# Adaption for EikoNet format\n",
    "\n",
    "class EikoNetVelocity:\n",
    "    def __init__(self, Vel):\n",
    "        self.xmin = Vel.xmin\n",
    "        self.xmax = Vel.xmax\n",
    "        self.projection = None\n",
    "        self.f = Vel\n",
    "    \n",
    "    def eval(self, Xp):\n",
    "        Yp = np.zeros((Xp.shape[0], 2))\n",
    "        Yp[:, 0] = self.f(Xp[:, :3])\n",
    "        Yp[:, 1] = self.f(Xp[:, 3:])\n",
    "        return Yp\n",
    "\n",
    "EikoNet_Vel3D = EikoNetVelocity(Vel3D)"
   ]
  },
  {
   "cell_type": "code",
   "execution_count": 6,
   "metadata": {},
   "outputs": [],
   "source": [
    "# Test source location\n",
    "Ixs = [\n",
    "    (nx//9, nz//9, 0),\n",
    "    (nx//2, nz//2, 0),\n",
    "    (int(nx//1.1), int(nz//1.1), 0)\n",
    "]\n",
    "d = [x[1] - x[0], z[1] - z[0], y[1] - y[0]]\n",
    "T_ref = []\n",
    "\n",
    "for ixs in Ixs:\n",
    "    D = distance(V_3d.shape, d, ixs, indexing='ij')[..., 0]\n",
    "    T_ref.append(D * ffm(V_3d, ixs, d, 2)[..., 0])\n",
    "\n",
    "T_ref = np.stack(T_ref, axis=0)"
   ]
  },
  {
   "cell_type": "code",
   "execution_count": 7,
   "metadata": {},
   "outputs": [],
   "source": [
    "xr = Xr_3d[..., 0, :]\n",
    "Xs = [np.tile(Xr_3d[ixs][None, None, ...], xr.shape[:-1] + (1,)) for ixs in Ixs]\n",
    "Xp = [np.concatenate([xsi, xr], axis=-1) for xsi in Xs]\n",
    "X_test = np.stack(Xp, axis=0)"
   ]
  },
  {
   "cell_type": "markdown",
   "metadata": {},
   "source": [
    "# Training EikoNet"
   ]
  },
  {
   "cell_type": "code",
   "execution_count": 9,
   "metadata": {},
   "outputs": [],
   "source": [
    "filePath = './data'\n",
    "model = EikoNet.Model(filePath, VelocityClass=EikoNet_Vel3D, device='cuda:0')\n",
    "model.Params['Training']['Number of sample points'] = 5000\n",
    "model.Params['Training']['Save Every * Epoch'] = 1e6\n",
    "model.Params['Training']['Print Every * Epoch'] = 100\n",
    "model.Params['Training']['Number of Epochs'] = 1000"
   ]
  },
  {
   "cell_type": "code",
   "execution_count": 7,
   "metadata": {},
   "outputs": [
    {
     "name": "stdout",
     "output_type": "stream",
     "text": [
      "(5000, 6) (5000, 2)\n",
      "cpu\n",
      "=======================================================================================\n",
      "=======================================================================================\n",
      "========================== Eikonal Solver - Training ==================================\n",
      "=======================================================================================\n",
      "=======================================================================================\n",
      "=======================================================================================\n",
      "Epoch = 100 -- Training loss = 1.0513e-01 -- Validation loss = 6.1825e-02\n",
      "Epoch = 200 -- Training loss = 1.0499e-01 -- Validation loss = 6.1837e-02\n",
      "Epoch = 300 -- Training loss = 1.0595e-01 -- Validation loss = 6.1837e-02\n",
      "Epoch = 400 -- Training loss = 1.0267e-01 -- Validation loss = 6.1858e-02\n",
      "Epoch = 500 -- Training loss = 1.0697e-01 -- Validation loss = 6.1831e-02\n",
      "Epoch = 600 -- Training loss = 1.0418e-01 -- Validation loss = 6.1804e-02\n",
      "Epoch = 700 -- Training loss = 1.0333e-01 -- Validation loss = 6.1778e-02\n",
      "Epoch = 800 -- Training loss = 1.0654e-01 -- Validation loss = 6.1748e-02\n",
      "Epoch = 900 -- Training loss = 1.0425e-01 -- Validation loss = 6.1790e-02\n",
      "Epoch = 1000 -- Training loss = 1.0381e-01 -- Validation loss = 6.1646e-02\n",
      "CPU times: user 7h 56min 24s, sys: 38.4 s, total: 7h 57min 2s\n",
      "Wall time: 47min 56s\n"
     ]
    }
   ],
   "source": [
    "%%time\n",
    "model.train()\n",
    "EikoNet_loss = model.total_train_loss"
   ]
  },
  {
   "cell_type": "code",
   "execution_count": 10,
   "metadata": {},
   "outputs": [
    {
     "name": "stderr",
     "output_type": "stream",
     "text": [
      "/home/andrei/.local/lib/python3.11/site-packages/EikoNet/model.py:343: FutureWarning: You are using `torch.load` with `weights_only=False` (the current default value), which uses the default pickle module implicitly. It is possible to construct malicious pickle data which will execute arbitrary code during unpickling (See https://github.com/pytorch/pytorch/blob/main/SECURITY.md#untrusted-models for more details). In a future release, the default value for `weights_only` will be flipped to `True`. This limits the functions that could be executed during unpickling. Arbitrary objects will no longer be allowed to be loaded via this mode unless they are explicitly allowlisted by the user via `torch.serialization.add_safe_globals`. We recommend you start setting `weights_only=True` for any use case where you don't have full control of the loaded file. Please open an issue on GitHub for any issues related to this experimental feature.\n",
      "  checkpoint            = torch.load(filepath,map_location=torch.device(self.Params['Device']))\n"
     ]
    }
   ],
   "source": [
    "# After training EikoNet, GPU memory is not cleaned\n",
    "# To run it for prediction, we load saved model on CPU to use RAM\n",
    "\n",
    "model2 = EikoNet.Model(filePath, EikoNet_Vel3D, device='cpu')\n",
    "\n",
    "saved_model_name = 'Model_Epoch_01000_ValLoss_0.8574802279472351.pt'\n",
    "model2.load(f\"{filePath}/{saved_model_name}\")\n",
    "\n",
    "Xpt = torch.tensor(np.float32(X_test.reshape(-1, 6)))\n",
    "TT = model2.TravelTimes(Xpt)\n",
    "T_eikonet = TT.detach().numpy().reshape(len(Ixs), nx, nz)"
   ]
  },
  {
   "cell_type": "markdown",
   "metadata": {},
   "source": [
    "# Visualization"
   ]
  },
  {
   "cell_type": "code",
   "execution_count": 1,
   "metadata": {},
   "outputs": [
    {
     "ename": "NameError",
     "evalue": "name 'T_ref' is not defined",
     "output_type": "error",
     "traceback": [
      "\u001b[0;31m---------------------------------------------------------------------------\u001b[0m",
      "\u001b[0;31mNameError\u001b[0m                                 Traceback (most recent call last)",
      "Cell \u001b[0;32mIn[1], line 7\u001b[0m\n\u001b[1;32m      4\u001b[0m linestyle \u001b[38;5;241m=\u001b[39m [\u001b[38;5;124m'\u001b[39m\u001b[38;5;124msolid\u001b[39m\u001b[38;5;124m'\u001b[39m, \u001b[38;5;124m'\u001b[39m\u001b[38;5;124mdashed\u001b[39m\u001b[38;5;124m'\u001b[39m]\n\u001b[1;32m      5\u001b[0m linewidth \u001b[38;5;241m=\u001b[39m [\u001b[38;5;241m1\u001b[39m, \u001b[38;5;241m2\u001b[39m]\n\u001b[0;32m----> 7\u001b[0m \u001b[38;5;28;01mfor\u001b[39;00m t_ref, t_eikonet \u001b[38;5;129;01min\u001b[39;00m \u001b[38;5;28mzip\u001b[39m(\u001b[43mT_ref\u001b[49m, T_eikoNet):\n\u001b[1;32m      8\u001b[0m     ixs \u001b[38;5;241m=\u001b[39m np\u001b[38;5;241m.\u001b[39munravel_index(t_ref\u001b[38;5;241m.\u001b[39margmin(), t_ref\u001b[38;5;241m.\u001b[39mshape)\n\u001b[1;32m      9\u001b[0m     vmap \u001b[38;5;241m=\u001b[39m hv\u001b[38;5;241m.\u001b[39mImage((x, z, V_2d\u001b[38;5;241m.\u001b[39mT), vdims\u001b[38;5;241m=\u001b[39m\u001b[38;5;124m'\u001b[39m\u001b[38;5;124mVelocity (km/s)\u001b[39m\u001b[38;5;124m'\u001b[39m, kdims\u001b[38;5;241m=\u001b[39m[\u001b[38;5;124m'\u001b[39m\u001b[38;5;124mX (km)\u001b[39m\u001b[38;5;124m'\u001b[39m, \u001b[38;5;124m'\u001b[39m\u001b[38;5;124mZ (km)\u001b[39m\u001b[38;5;124m'\u001b[39m])\u001b[38;5;241m.\u001b[39mopts(cmap\u001b[38;5;241m=\u001b[39m\u001b[38;5;124m'\u001b[39m\u001b[38;5;124mviridis\u001b[39m\u001b[38;5;124m'\u001b[39m, colorbar\u001b[38;5;241m=\u001b[39m\u001b[38;5;28;01mTrue\u001b[39;00m)\n",
      "\u001b[0;31mNameError\u001b[0m: name 'T_ref' is not defined"
     ]
    }
   ],
   "source": [
    "figs = []\n",
    "labels = ['f-FMM', 'EikoNet']\n",
    "colors = ['w', 'b']\n",
    "linestyle = ['solid', 'dashed']\n",
    "linewidth = [1, 2]\n",
    "\n",
    "for t_ref, t_eikonet in zip(T_ref, T_eikonet):\n",
    "    ixs = np.unravel_index(t_ref.argmin(), t_ref.shape)\n",
    "    vmap = hv.Image((x, z, V_2d.T), vdims='Velocity (km/s)', kdims=['X (km)', 'Z (km)']).opts(cmap='viridis', colorbar=True)\n",
    "\n",
    "solutions = [t_ref, t_eikonet]\n",
    "levels = np.linspace(0, np.nanmax(t_ref), 11)\n",
    "\n",
    "tmaps = [hv.Image((x, z, solutions[i].T), vdims='Time (s)', label=labels[i]) for i in range(len(labels))]\n",
    "contours = [hv.operation.contours(tmaps[i], levels=levels).opt(color=colors[i], cmap=[colors[i]], linestyle=linestyle[i], linewidth=linewidth[i]) for i in range(len(tmaps))]\n",
    "\n",
    "source_point = hv.Scatter((x[ixs[0]], z[ixs[1]])).opts(marker='*', s=200, c='r')\n",
    "fig = hv.Overlay([vmap] + contours + [source_point])\n",
    "fig = fig.opts(hv.opts.Image(fig_size=150, aspect=xmax/zmax, invert_yaxis=True, fontscale=dict(ticks=16, labels=16, legend=16)))\n",
    "figs.append(fig.opts(show_legend=False))\n",
    "\n",
    "fig[0] = fig[0].opts(hv.opts.Image(colorbar=False)).opts(yaxis='left')\n",
    "fig[1] = fig[1].opts(hv.opts.Image(colorbar=False)).opts(show_legend=True, yaxis='bare', legend_opts=dict(loc=(-0.18, 1.05), ncol=3, framealpha=0.5), fontsize=dict(ticks=16, labels=16, legend=18))\n",
    "fig[2] = fig[2].opts(hv.opts.Image(yaxis='bare'), hv.opts.Scatter(yaxis='bare'))\n",
    "\n",
    "fig = hv.Layout(figs).cols(3).opts(hspace=0.1, fig_size=125, aspect_weight=1, sublabel_format=' ')\n",
    "\n",
    "fig"
   ]
  },
  {
   "cell_type": "code",
   "execution_count": null,
   "metadata": {},
   "outputs": [],
   "source": []
  }
 ],
 "metadata": {
  "kernelspec": {
   "display_name": "Python 3",
   "language": "python",
   "name": "python3"
  },
  "language_info": {
   "codemirror_mode": {
    "name": "ipython",
    "version": 3
   },
   "file_extension": ".py",
   "mimetype": "text/x-python",
   "name": "python",
   "nbconvert_exporter": "python",
   "pygments_lexer": "ipython3",
   "version": "3.11.0"
  }
 },
 "nbformat": 4,
 "nbformat_minor": 2
}
